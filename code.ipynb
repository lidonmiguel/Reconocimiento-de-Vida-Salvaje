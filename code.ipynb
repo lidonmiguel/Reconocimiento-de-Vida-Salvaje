{
  "nbformat": 4,
  "nbformat_minor": 0,
  "metadata": {
    "colab": {
      "provenance": [],
      "gpuType": "T4"
    },
    "kernelspec": {
      "name": "python3",
      "display_name": "Python 3"
    },
    "language_info": {
      "name": "python"
    },
    "accelerator": "GPU"
  },
  "cells": [
    {
      "cell_type": "code",
      "source": [
        "from google.colab import drive\n",
        "drive.mount('/content/drive')"
      ],
      "metadata": {
        "id": "jBZ2N0E13ZhY"
      },
      "execution_count": null,
      "outputs": []
    },
    {
      "cell_type": "markdown",
      "source": [
        "# **Descargar dataset Animal Faces**"
      ],
      "metadata": {
        "id": "XFBtF5VHr_OR"
      }
    },
    {
      "cell_type": "code",
      "source": [
        "import kagglehub\n",
        "\n",
        "# Descargar la última versión del dataset Animal Faces\n",
        "path = kagglehub.dataset_download(\"andrewmvd/animal-faces\")\n",
        "print(\"Ruta a los archivos del dataset:\", path)"
      ],
      "metadata": {
        "id": "juPcdWDE23gZ"
      },
      "execution_count": null,
      "outputs": []
    },
    {
      "cell_type": "markdown",
      "source": [
        "# **Generador**"
      ],
      "metadata": {
        "id": "vvorY61IsKSV"
      }
    },
    {
      "cell_type": "code",
      "source": [
        "from tensorflow.keras.preprocessing.image import ImageDataGenerator\n",
        "from tensorflow.keras.applications.resnet50 import preprocess_input\n",
        "\n",
        "# Rutas a carpetas de train y val\n",
        "train_dir = '/kaggle/input/animal-faces/afhq/train'\n",
        "val_dir = '/kaggle/input/animal-faces/afhq/val'\n",
        "\n",
        "# Generador con aumentos y preprocesamiento para entrenamiento\n",
        "train_datagen = ImageDataGenerator(\n",
        "    preprocessing_function=preprocess_input,\n",
        "    rotation_range=20,\n",
        "    width_shift_range=0.2,\n",
        "    height_shift_range=0.2,\n",
        "    horizontal_flip=True\n",
        ")\n",
        "\n",
        "# Generador solo con preprocesamiento para validación (sin aumentos)\n",
        "val_datagen = ImageDataGenerator(\n",
        "    preprocessing_function=preprocess_input\n",
        ")\n",
        "\n",
        "# Generador de entrenamiento\n",
        "train_generator = train_datagen.flow_from_directory(\n",
        "    train_dir,\n",
        "    target_size=(512, 512),\n",
        "    batch_size=32,\n",
        "    class_mode='categorical'\n",
        ")\n",
        "\n",
        "# Generador de validación\n",
        "validation_generator = val_datagen.flow_from_directory(\n",
        "    val_dir,\n",
        "    target_size=(512, 512),\n",
        "    batch_size=32,\n",
        "    class_mode='categorical'\n",
        ")"
      ],
      "metadata": {
        "id": "l1r9EOna26AC"
      },
      "execution_count": null,
      "outputs": []
    },
    {
      "cell_type": "markdown",
      "source": [
        "# **Entrenar el modelo**"
      ],
      "metadata": {
        "id": "Xh9ZGX-FsX_N"
      }
    },
    {
      "cell_type": "code",
      "source": [
        "import tensorflow as tf\n",
        "from tensorflow.keras.applications import ResNet50\n",
        "from tensorflow.keras.layers import Dense, Flatten, Dropout\n",
        "from tensorflow.keras.models import Model\n",
        "from tensorflow.keras.optimizers import Adam\n",
        "\n",
        "# Cargar ResNet50 sin la capa superior (sin clasificación)\n",
        "base_model = ResNet50(weights='imagenet', include_top=False, input_shape=(512, 512, 3))\n",
        "\n",
        "# Congelar las capas del modelo base para que no se entrenen inicialmente\n",
        "base_model.trainable = False\n",
        "\n",
        "# Añadir capas personalizadas para clasificación\n",
        "x = base_model.output\n",
        "x = Flatten()(x)\n",
        "x = Dense(128, activation='relu')(x)\n",
        "x = Dropout(0.5)(x)\n",
        "output = Dense(3, activation='softmax')(x)  # 3 clases: cat, dog, wild\n",
        "\n",
        "# Crear el modelo completo\n",
        "model = Model(inputs=base_model.input, outputs=output)\n",
        "\n",
        "# Compilar el modelo\n",
        "model.compile(optimizer=Adam(learning_rate=1e-4),\n",
        "              loss='categorical_crossentropy',\n",
        "              metrics=['accuracy'])\n",
        "\n",
        "# Mostrar resumen\n",
        "model.summary()\n",
        "\n",
        "# Entrenar el modelo\n",
        "history = model.fit(\n",
        "    train_generator,\n",
        "    validation_data=validation_generator,\n",
        "    epochs=10\n",
        ")"
      ],
      "metadata": {
        "id": "BzWY_cLA2_2l"
      },
      "execution_count": null,
      "outputs": []
    },
    {
      "cell_type": "code",
      "source": [
        "model.save('modelo_resnet50_etapa1.keras')  # Después del entrenamiento inicial"
      ],
      "metadata": {
        "id": "eYhGSEVVrwOT"
      },
      "execution_count": null,
      "outputs": []
    },
    {
      "cell_type": "markdown",
      "source": [
        "# **Fine tuning**"
      ],
      "metadata": {
        "id": "bNyjPb7gsd-e"
      }
    },
    {
      "cell_type": "markdown",
      "source": [
        "## **Seguido**"
      ],
      "metadata": {
        "id": "iEjysrD-tUIO"
      }
    },
    {
      "cell_type": "code",
      "source": [
        "# ---- Segunda fase: Fine tuning ----\n",
        "# Descongelar el modelo base\n",
        "base_model.trainable = True\n",
        "\n",
        "# Congelar todas las capas excepto las últimas 50 para evitar desajustes\n",
        "for layer in base_model.layers[:-50]:\n",
        "    layer.trainable = False\n",
        "\n",
        "# Recompilar con learning rate más bajo para fine tuning\n",
        "model.compile(optimizer=Adam(learning_rate=1e-5),\n",
        "              loss='categorical_crossentropy',\n",
        "              metrics=['accuracy'])\n",
        "\n",
        "# Continuar entrenamiento con fine tuning\n",
        "fine_tune_history = model.fit(\n",
        "    train_generator,\n",
        "    validation_data=validation_generator,\n",
        "    epochs=25,  # total epochs: 10 + 15 = 25\n",
        "    initial_epoch=history.epoch[-1] + 1\n",
        ")"
      ],
      "metadata": {
        "id": "56WCoTc93DM9"
      },
      "execution_count": null,
      "outputs": []
    },
    {
      "cell_type": "code",
      "source": [
        "model.save('modelo_resnet50_finetuned.h5')  # Después del fine-tuning"
      ],
      "metadata": {
        "id": "K_DwYRxFtvvK"
      },
      "execution_count": null,
      "outputs": []
    },
    {
      "cell_type": "markdown",
      "source": [
        "## **Por partes**"
      ],
      "metadata": {
        "id": "p8psy8gqtnqm"
      }
    },
    {
      "cell_type": "code",
      "source": [
        "from tensorflow.keras.models import load_model\n",
        "from tensorflow.keras.optimizers import Adam\n",
        "\n",
        "# 1. Cargar el modelo guardado (del primer entrenamiento)\n",
        "model = load_model('modelo_resnet50_etapa1.keras')\n",
        "\n",
        "# 2. Desbloquear todas las capas para preparar el fine-tuning\n",
        "model.trainable = True\n",
        "\n",
        "# 3. Congelar todas las capas excepto las últimas 50\n",
        "for layer in model.layers[:-50]:\n",
        "    layer.trainable = False\n",
        "\n",
        "# 4. Recompilar con un learning rate más bajo para fine-tuning\n",
        "model.compile(\n",
        "    optimizer=Adam(learning_rate=1e-5),\n",
        "    loss='categorical_crossentropy',\n",
        "    metrics=['accuracy']\n",
        ")\n",
        "\n",
        "# 5. Continuar el entrenamiento con fine-tuning\n",
        "#    Recuerda ajustar 'initial_epoch' al número de épocas ya entrenadas en la primera fase.\n",
        "initial_epoch = 10  # Cambia según cuántas épocas entrenaste antes\n",
        "\n",
        "fine_tune_history = model.fit(\n",
        "    train_generator,\n",
        "    validation_data=validation_generator,\n",
        "    epochs=25,          # total epochs deseadas (por ejemplo 25)\n",
        "    initial_epoch=initial_epoch\n",
        ")"
      ],
      "metadata": {
        "id": "WBJKNd3j3JS3"
      },
      "execution_count": null,
      "outputs": []
    },
    {
      "cell_type": "code",
      "source": [
        "model.save('modelo_resnet50_finetuned.h5')  # Después del fine-tuning"
      ],
      "metadata": {
        "id": "35J_s3Jtr0lI"
      },
      "execution_count": null,
      "outputs": []
    },
    {
      "cell_type": "markdown",
      "source": [
        "# **Evaluar modelo**"
      ],
      "metadata": {
        "id": "bV3oVgblsl86"
      }
    },
    {
      "cell_type": "code",
      "source": [
        "# Evaluar modelo\n",
        "val_loss, val_acc = model.evaluate(validation_generator)\n",
        "print(f\"Precisión en validación: {val_acc*100:.2f}%\")\n"
      ],
      "metadata": {
        "id": "xYbHpoar7gVk"
      },
      "execution_count": null,
      "outputs": []
    },
    {
      "cell_type": "code",
      "source": [
        "# Obtener predicciones en el conjunto de validación\n",
        "Y_pred = model.predict(validation_generator)\n",
        "y_pred = np.argmax(Y_pred, axis=1)"
      ],
      "metadata": {
        "id": "fYXummwF3ONX"
      },
      "execution_count": null,
      "outputs": []
    },
    {
      "cell_type": "code",
      "source": [
        "# Etiquetas reales del generador\n",
        "y_true = validation_generator.classes\n",
        "class_names = list(validation_generator.class_indices.keys())"
      ],
      "metadata": {
        "id": "9jjHDpjO3P8M"
      },
      "execution_count": null,
      "outputs": []
    },
    {
      "cell_type": "code",
      "source": [
        "from sklearn.metrics import classification_report\n",
        "\n",
        "print(\"Reporte de clasificación:\")\n",
        "print(classification_report(y_true, y_pred, target_names=class_names))"
      ],
      "metadata": {
        "id": "0jz7sVt33ROV"
      },
      "execution_count": null,
      "outputs": []
    },
    {
      "cell_type": "code",
      "source": [
        "cm = confusion_matrix(y_true, y_pred)\n",
        "\n",
        "plt.figure(figsize=(10,8))\n",
        "sns.heatmap(cm, annot=True, fmt='d', cmap='Blues', xticklabels=class_names, yticklabels=class_names)\n",
        "plt.xlabel('Predicción')\n",
        "plt.ylabel('Real')\n",
        "plt.title('Matriz de Confusión')\n",
        "plt.show()\n"
      ],
      "metadata": {
        "colab": {
          "base_uri": "https://localhost:8080/",
          "height": 718
        },
        "id": "poOCceehdnVl",
        "outputId": "2d852514-f23a-4426-c02f-70e295bfb6ed"
      },
      "execution_count": null,
      "outputs": [
        {
          "output_type": "display_data",
          "data": {
            "text/plain": [
              "<Figure size 1000x800 with 2 Axes>"
            ],
            "image/png": "[encoded data removed]"
          },
          "metadata": {}
        }
      ]
    }
  ]
}